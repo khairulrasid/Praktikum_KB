{
  "nbformat": 4,
  "nbformat_minor": 0,
  "metadata": {
    "colab": {
      "provenance": []
    },
    "kernelspec": {
      "name": "python3",
      "display_name": "Python 3"
    },
    "language_info": {
      "name": "python"
    }
  },
  "cells": [
    {
      "cell_type": "markdown",
      "source": [
        "Pertama, Anda perlu mengaitkan akun Google Drive Anda dengan Google Colab agar dapat mengakses file yang ada di dalamnya. Jalankan kode berikut di sel Google Colab"
      ],
      "metadata": {
        "id": "tTGf_BV8Qrkg"
      }
    },
    {
      "cell_type": "code",
      "source": [
        "from google.colab import drive\n",
        "drive.mount('/content/drive')\n"
      ],
      "metadata": {
        "colab": {
          "base_uri": "https://localhost:8080/"
        },
        "id": "bGo93xnqF4W_",
        "outputId": "91185343-68f5-46da-e610-92c69f834837"
      },
      "execution_count": 5,
      "outputs": [
        {
          "output_type": "stream",
          "name": "stdout",
          "text": [
            "Mounted at /content/drive\n"
          ]
        }
      ]
    },
    {
      "cell_type": "markdown",
      "source": [
        "Selanjutnya panggil dataset yang di google **drive**"
      ],
      "metadata": {
        "id": "ydeMHTBoQ1oK"
      }
    },
    {
      "cell_type": "code",
      "execution_count": 7,
      "metadata": {
        "colab": {
          "base_uri": "https://localhost:8080/"
        },
        "id": "CN_guVrYEXGb",
        "outputId": "e58e0868-3055-446f-cc85-644bcf9751f9"
      },
      "outputs": [
        {
          "output_type": "stream",
          "name": "stdout",
          "text": [
            "Archive:  /content/drive/My Drive/KB/dataset.zip\n",
            "  inflating: images/cat/cat_1.jpg    \n",
            "  inflating: images/cat/cat_10.jpg   \n",
            "  inflating: images/cat/cat_100.jpg  \n",
            "  inflating: images/cat/cat_101.jpg  \n",
            "  inflating: images/cat/cat_102.jpg  \n",
            "  inflating: images/cat/cat_103.jpg  \n",
            "  inflating: images/cat/cat_104.jpg  \n",
            "  inflating: images/cat/cat_105.jpg  \n",
            "  inflating: images/cat/cat_106.jpg  \n",
            "  inflating: images/cat/cat_107.jpg  \n",
            "  inflating: images/cat/cat_108.jpg  \n",
            "  inflating: images/cat/cat_109.jpeg  \n",
            "  inflating: images/cat/cat_11.jpg   \n",
            "  inflating: images/cat/cat_110.jpeg  \n",
            "  inflating: images/cat/cat_111.jpeg  \n",
            "  inflating: images/cat/cat_112.jpg  \n",
            "  inflating: images/cat/cat_113.jpg  \n",
            "  inflating: images/cat/cat_114.jpg  \n",
            "  inflating: images/cat/cat_115.jpg  \n",
            "  inflating: images/cat/cat_116.jpg  \n",
            "  inflating: images/cat/cat_117.jpg  \n",
            "  inflating: images/cat/cat_118.jpg  \n",
            "  inflating: images/cat/cat_119.jpg  \n",
            "  inflating: images/cat/cat_12.jpg   \n",
            "  inflating: images/cat/cat_120.jpg  \n",
            "  inflating: images/cat/cat_121.jpg  \n",
            "  inflating: images/cat/cat_122.jpg  \n",
            "  inflating: images/cat/cat_123.jpg  \n",
            "  inflating: images/cat/cat_124.jpg  \n",
            "  inflating: images/cat/cat_125.jpg  \n",
            "  inflating: images/cat/cat_126.jpg  \n",
            "  inflating: images/cat/cat_127.jpg  \n",
            "  inflating: images/cat/cat_128.jpg  \n",
            "  inflating: images/cat/cat_129.jpg  \n",
            "  inflating: images/cat/cat_13.jpg   \n",
            "  inflating: images/cat/cat_130.jpg  \n",
            "  inflating: images/cat/cat_131.jpg  \n",
            "  inflating: images/cat/cat_132.jpg  \n",
            "  inflating: images/cat/cat_133.jpg  \n",
            "  inflating: images/cat/cat_134.jpg  \n",
            "  inflating: images/cat/cat_135.jpg  \n",
            "  inflating: images/cat/cat_136.jpg  \n",
            "  inflating: images/cat/cat_137.jpg  \n",
            "  inflating: images/cat/cat_138.jpg  \n",
            "  inflating: images/cat/cat_139.jpg  \n",
            "  inflating: images/cat/cat_14.jpg   \n",
            "  inflating: images/cat/cat_140.jpg  \n",
            "  inflating: images/cat/cat_141.jpg  \n",
            "  inflating: images/cat/cat_142.jpg  \n",
            "  inflating: images/cat/cat_143.jpg  \n",
            "  inflating: images/cat/cat_144.jpg  \n",
            "  inflating: images/cat/cat_145.jpg  \n",
            "  inflating: images/cat/cat_146.jpg  \n",
            "  inflating: images/cat/cat_147.jpg  \n",
            "  inflating: images/cat/cat_148.jpg  \n",
            "  inflating: images/cat/cat_149.jpg  \n",
            "  inflating: images/cat/cat_15.jpg   \n",
            "  inflating: images/cat/cat_150.jpg  \n",
            "  inflating: images/cat/cat_151.jpg  \n",
            "  inflating: images/cat/cat_152.jpg  \n",
            "  inflating: images/cat/cat_153.jpg  \n",
            "  inflating: images/cat/cat_154.jpg  \n",
            "  inflating: images/cat/cat_155.jpg  \n",
            "  inflating: images/cat/cat_156.jpg  \n",
            "  inflating: images/cat/cat_157.jpg  \n",
            "  inflating: images/cat/cat_158.jpg  \n",
            "  inflating: images/cat/cat_159.jpg  \n",
            "  inflating: images/cat/cat_16.jpeg  \n",
            "  inflating: images/cat/cat_160.jpg  \n",
            "  inflating: images/cat/cat_161.jpg  \n",
            "  inflating: images/cat/cat_162.jpg  \n",
            "  inflating: images/cat/cat_163.jpg  \n",
            "  inflating: images/cat/cat_164.jpg  \n",
            "  inflating: images/cat/cat_165.jpg  \n",
            "  inflating: images/cat/cat_166.jpg  \n",
            "  inflating: images/cat/cat_167.jpg  \n",
            "  inflating: images/cat/cat_168.jpg  \n",
            "  inflating: images/cat/cat_169.jpg  \n",
            "  inflating: images/cat/cat_17.jpeg  \n",
            "  inflating: images/cat/cat_170.jpg  \n",
            "  inflating: images/cat/cat_171.jpg  \n",
            "  inflating: images/cat/cat_172.jpg  \n",
            "  inflating: images/cat/cat_173.jpg  \n",
            "  inflating: images/cat/cat_174.jpg  \n",
            "  inflating: images/cat/cat_175.jpg  \n",
            "  inflating: images/cat/cat_176.jpg  \n",
            "  inflating: images/cat/cat_177.jpg  \n",
            "  inflating: images/cat/cat_178.jpg  \n",
            "  inflating: images/cat/cat_179.jpg  \n",
            "  inflating: images/cat/cat_18.jpg   \n",
            "  inflating: images/cat/cat_180.jpg  \n",
            "  inflating: images/cat/cat_181.jpg  \n",
            "  inflating: images/cat/cat_182.jpg  \n",
            "  inflating: images/cat/cat_183.jpg  \n",
            "  inflating: images/cat/cat_184.jpg  \n",
            "  inflating: images/cat/cat_185.jpg  \n",
            "  inflating: images/cat/cat_186.jpg  \n",
            "  inflating: images/cat/cat_187.jpg  \n",
            "  inflating: images/cat/cat_188.jpg  \n",
            "  inflating: images/cat/cat_189.jpg  \n",
            "  inflating: images/cat/cat_19.jpg   \n",
            "  inflating: images/cat/cat_190.jpg  \n",
            "  inflating: images/cat/cat_191.jpg  \n",
            "  inflating: images/cat/cat_192.jpg  \n",
            "  inflating: images/cat/cat_193.jpg  \n",
            "  inflating: images/cat/cat_194.jpg  \n",
            "  inflating: images/cat/cat_195.jpg  \n",
            "  inflating: images/cat/cat_196.jpg  \n",
            "  inflating: images/cat/cat_197.jpg  \n",
            "  inflating: images/cat/cat_198.jpg  \n",
            "  inflating: images/cat/cat_199.jpg  \n",
            "  inflating: images/cat/cat_20.jpg   \n",
            "  inflating: images/cat/cat_200.jpg  \n",
            "  inflating: images/cat/cat_201.jpg  \n",
            "  inflating: images/cat/cat_202.jpg  \n",
            "  inflating: images/cat/cat_203.jpg  \n",
            "  inflating: images/cat/cat_204.jpg  \n",
            "  inflating: images/cat/cat_205.jpg  \n",
            "  inflating: images/cat/cat_206.jpg  \n",
            "  inflating: images/cat/cat_207.jpg  \n",
            "  inflating: images/cat/cat_208.jpg  \n",
            "  inflating: images/cat/cat_209.jpg  \n",
            "  inflating: images/cat/cat_21.jpg   \n",
            "  inflating: images/cat/cat_210.jpg  \n",
            "  inflating: images/cat/cat_211.jpg  \n",
            "  inflating: images/cat/cat_212.jpg  \n",
            "  inflating: images/cat/cat_213.jpg  \n",
            "  inflating: images/cat/cat_214.jpg  \n",
            "  inflating: images/cat/cat_215.jpg  \n",
            "  inflating: images/cat/cat_216.jpg  \n",
            "  inflating: images/cat/cat_217.jpg  \n",
            "  inflating: images/cat/cat_218.jpg  \n",
            "  inflating: images/cat/cat_219.jpg  \n",
            "  inflating: images/cat/cat_22.jpg   \n",
            "  inflating: images/cat/cat_220.jpg  \n",
            "  inflating: images/cat/cat_221.jpg  \n",
            "  inflating: images/cat/cat_222.jpg  \n",
            "  inflating: images/cat/cat_223.jpg  \n",
            "  inflating: images/cat/cat_224.jpg  \n",
            "  inflating: images/cat/cat_225.jpg  \n",
            "  inflating: images/cat/cat_226.jpg  \n",
            "  inflating: images/cat/cat_227.jpg  \n",
            "  inflating: images/cat/cat_228.jpg  \n",
            "  inflating: images/cat/cat_229.jpg  \n",
            "  inflating: images/cat/cat_23.jpg   \n",
            "  inflating: images/cat/cat_230.jpg  \n",
            "  inflating: images/cat/cat_231.jpg  \n",
            "  inflating: images/cat/cat_232.jpg  \n",
            "  inflating: images/cat/cat_233.jpg  \n",
            "  inflating: images/cat/cat_234.jpg  \n",
            "  inflating: images/cat/cat_235.jpg  \n",
            "  inflating: images/cat/cat_236.jpg  \n",
            "  inflating: images/cat/cat_237.jpg  \n",
            "  inflating: images/cat/cat_238.jpg  \n",
            "  inflating: images/cat/cat_239.jpg  \n",
            "  inflating: images/cat/cat_24.jpg   \n",
            "  inflating: images/cat/cat_240.jpg  \n",
            "  inflating: images/cat/cat_241.jpg  \n",
            "  inflating: images/cat/cat_242.jpg  \n",
            "  inflating: images/cat/cat_243.jpg  \n",
            "  inflating: images/cat/cat_244.jpg  \n",
            "  inflating: images/cat/cat_245.jpg  \n",
            "  inflating: images/cat/cat_246.jpg  \n",
            "  inflating: images/cat/cat_247.jpg  \n",
            "  inflating: images/cat/cat_248.jpg  \n",
            "  inflating: images/cat/cat_249.jpg  \n",
            "  inflating: images/cat/cat_25.jpeg  \n",
            "  inflating: images/cat/cat_250.jpg  \n",
            "  inflating: images/cat/cat_251.jpg  \n",
            "  inflating: images/cat/cat_252.jpg  \n",
            "  inflating: images/cat/cat_253.jpg  \n",
            "  inflating: images/cat/cat_254.jpg  \n",
            "  inflating: images/cat/cat_255.jpg  \n",
            "  inflating: images/cat/cat_256.jpg  \n",
            "  inflating: images/cat/cat_257.jpg  \n",
            "  inflating: images/cat/cat_258.jpg  \n",
            "  inflating: images/cat/cat_259.jpg  \n",
            "  inflating: images/cat/cat_26.jpeg  \n",
            "  inflating: images/cat/cat_260.jpg  \n",
            "  inflating: images/cat/cat_261.jpg  \n",
            "  inflating: images/cat/cat_262.jpg  \n",
            "  inflating: images/cat/cat_263.jpg  \n",
            "  inflating: images/cat/cat_264.jpg  \n",
            "  inflating: images/cat/cat_265.jpg  \n",
            "  inflating: images/cat/cat_266.jpg  \n",
            "  inflating: images/cat/cat_267.jpg  \n",
            "  inflating: images/cat/cat_268.jpg  \n",
            "  inflating: images/cat/cat_269.jpg  \n",
            "  inflating: images/cat/cat_27.jpg   \n",
            "  inflating: images/cat/cat_270.jpg  \n",
            "  inflating: images/cat/cat_271.jpeg  \n",
            "  inflating: images/cat/cat_272.jpeg  \n",
            "  inflating: images/cat/cat_273.jpeg  \n",
            "  inflating: images/cat/cat_274.jpeg  \n",
            "  inflating: images/cat/cat_275.jpeg  \n",
            "  inflating: images/cat/cat_276.jpeg  \n",
            "  inflating: images/cat/cat_277.jpg  \n",
            "  inflating: images/cat/cat_278.jpg  \n",
            "  inflating: images/cat/cat_279.jpg  \n",
            "  inflating: images/cat/cat_28.jpg   \n",
            "  inflating: images/cat/cat_280.jpg  \n",
            "  inflating: images/cat/cat_281.jpg  \n",
            "  inflating: images/cat/cat_282.jpg  \n",
            "  inflating: images/cat/cat_283.jpg  \n",
            "  inflating: images/cat/cat_284.jpg  \n",
            "  inflating: images/cat/cat_285.jpg  \n",
            "  inflating: images/cat/cat_286.jpg  \n",
            "  inflating: images/cat/cat_287.jpg  \n",
            "  inflating: images/cat/cat_288.jpg  \n",
            "  inflating: images/cat/cat_289.jpg  \n",
            "  inflating: images/cat/cat_29.jpg   \n",
            "  inflating: images/cat/cat_290.jpg  \n",
            "  inflating: images/cat/cat_291.jpg  \n",
            "  inflating: images/cat/cat_292.jpg  \n",
            "  inflating: images/cat/cat_293.jpg  \n",
            "  inflating: images/cat/cat_294.jpeg  \n",
            "  inflating: images/cat/cat_295.jpeg  \n",
            "  inflating: images/cat/cat_296.jpeg  \n",
            "  inflating: images/cat/cat_297.jpeg  \n",
            "  inflating: images/cat/cat_298.jpg  \n",
            "  inflating: images/cat/cat_299.jpg  \n",
            "  inflating: images/cat/cat_30.jpg   \n",
            "  inflating: images/cat/cat_300.jpg  \n",
            "  inflating: images/cat/cat_301.jpg  \n",
            "  inflating: images/cat/cat_302.jpg  \n",
            "  inflating: images/cat/cat_303.jpg  \n",
            "  inflating: images/cat/cat_304.jpg  \n",
            "  inflating: images/cat/cat_305.jpg  \n",
            "  inflating: images/cat/cat_306.jpg  \n",
            "  inflating: images/cat/cat_307.jpg  \n",
            "  inflating: images/cat/cat_308.jpg  \n",
            "  inflating: images/cat/cat_309.jpg  \n",
            "  inflating: images/cat/cat_31.jpg   \n",
            "  inflating: images/cat/cat_310.jpg  \n",
            "  inflating: images/cat/cat_311.jpg  \n",
            "  inflating: images/cat/cat_312.jpg  \n",
            "  inflating: images/cat/cat_313.jpg  \n",
            "  inflating: images/cat/cat_314.jpg  \n",
            "  inflating: images/cat/cat_315.jpg  \n",
            "  inflating: images/cat/cat_316.jpg  \n",
            "  inflating: images/cat/cat_317.jpg  \n",
            "  inflating: images/cat/cat_318.jpg  \n",
            "  inflating: images/cat/cat_319.jpg  \n",
            "  inflating: images/cat/cat_32.jpg   \n",
            "  inflating: images/cat/cat_320.jpg  \n",
            "  inflating: images/cat/cat_321.jpg  \n",
            "  inflating: images/cat/cat_322.jpg  \n",
            "  inflating: images/cat/cat_323.jpg  \n",
            "  inflating: images/cat/cat_324.jpg  \n",
            "  inflating: images/cat/cat_325.jpg  \n",
            "  inflating: images/cat/cat_326.jpg  \n",
            "  inflating: images/cat/cat_33.jpg   \n",
            "  inflating: images/cat/cat_34.jpg   \n",
            "  inflating: images/cat/cat_35.jpg   \n",
            "  inflating: images/cat/cat_36.jpg   \n",
            "  inflating: images/cat/cat_37.jpg   \n",
            "  inflating: images/cat/cat_38.jpg   \n",
            "  inflating: images/cat/cat_39.jpg   \n",
            "  inflating: images/cat/cat_4.jpg    \n",
            "  inflating: images/cat/cat_40.jpg   \n",
            "  inflating: images/cat/cat_41.jpg   \n",
            "  inflating: images/cat/cat_42.jpg   \n",
            "  inflating: images/cat/cat_43.jpg   \n",
            "  inflating: images/cat/cat_44.jpg   \n",
            "  inflating: images/cat/cat_45.jpg   \n",
            "  inflating: images/cat/cat_46.jpg   \n",
            "  inflating: images/cat/cat_47.jpg   \n",
            "  inflating: images/cat/cat_48.jpg   \n",
            "  inflating: images/cat/cat_49.jpg   \n",
            "  inflating: images/cat/cat_5.jpg    \n",
            "  inflating: images/cat/cat_50.jpg   \n",
            "  inflating: images/cat/cat_51.jpg   \n",
            "  inflating: images/cat/cat_52.jpg   \n",
            "  inflating: images/cat/cat_53.jpg   \n",
            "  inflating: images/cat/cat_54.jpg   \n",
            "  inflating: images/cat/cat_55.jpg   \n",
            "  inflating: images/cat/cat_56.jpg   \n",
            "  inflating: images/cat/cat_57.jpg   \n",
            "  inflating: images/cat/cat_58.jpg   \n",
            "  inflating: images/cat/cat_59.jpg   \n",
            "  inflating: images/cat/cat_6.jpg    \n",
            "  inflating: images/cat/cat_60.jpg   \n",
            "  inflating: images/cat/cat_61.jpg   \n",
            "  inflating: images/cat/cat_62.jpg   \n",
            "  inflating: images/cat/cat_63.jpg   \n",
            "  inflating: images/cat/cat_64.jpg   \n",
            "  inflating: images/cat/cat_65.jpg   \n",
            "  inflating: images/cat/cat_66.jpg   \n",
            "  inflating: images/cat/cat_67.jpg   \n",
            "  inflating: images/cat/cat_68.jpg   \n",
            "  inflating: images/cat/cat_69.jpg   \n",
            "  inflating: images/cat/cat_70.jpg   \n",
            "  inflating: images/cat/cat_71.jpg   \n",
            "  inflating: images/cat/cat_72.jpg   \n",
            "  inflating: images/cat/cat_73.jpg   \n",
            "  inflating: images/cat/cat_74.jpg   \n",
            "  inflating: images/cat/cat_75.jpg   \n",
            "  inflating: images/cat/cat_76.jpg   \n",
            "  inflating: images/cat/cat_77.jpg   \n",
            "  inflating: images/cat/cat_78.jpg   \n",
            "  inflating: images/cat/cat_79.jpg   \n",
            "  inflating: images/cat/cat_8.jpg    \n",
            "  inflating: images/cat/cat_80.jpg   \n",
            "  inflating: images/cat/cat_81.jpg   \n",
            "  inflating: images/cat/cat_82.jpg   \n",
            "  inflating: images/cat/cat_83.jpg   \n",
            "  inflating: images/cat/cat_84.jpg   \n",
            "  inflating: images/cat/cat_85.jpg   \n",
            "  inflating: images/cat/cat_86.jpg   \n",
            "  inflating: images/cat/cat_87.jpg   \n",
            "  inflating: images/cat/cat_88.jpg   \n",
            "  inflating: images/cat/cat_89.jpg   \n",
            "  inflating: images/cat/cat_9.jpg    \n",
            "  inflating: images/cat/cat_90.jpg   \n",
            "  inflating: images/cat/cat_91.jpg   \n",
            "  inflating: images/cat/cat_92.jpg   \n",
            "  inflating: images/cat/cat_93.jpg   \n",
            "  inflating: images/cat/cat_94.jpg   \n",
            "  inflating: images/cat/cat_95.jpg   \n",
            "  inflating: images/cat/cat_96.jpg   \n",
            "  inflating: images/cat/cat_97.jpg   \n",
            "  inflating: images/cat/cat_98.jpg   \n",
            "  inflating: images/cat/cat_99.jpg   \n",
            "  inflating: images/loaf/loaf_cat_1.jpg  \n",
            "  inflating: images/loaf/loaf_cat_10.jpg  \n",
            "  inflating: images/loaf/loaf_cat_100.jpg  \n",
            "  inflating: images/loaf/loaf_cat_101.jpg  \n",
            "  inflating: images/loaf/loaf_cat_102.jpg  \n",
            "  inflating: images/loaf/loaf_cat_103.jpg  \n",
            "  inflating: images/loaf/loaf_cat_104.jpg  \n",
            "  inflating: images/loaf/loaf_cat_105.jpg  \n",
            "  inflating: images/loaf/loaf_cat_106.jpg  \n",
            "  inflating: images/loaf/loaf_cat_107.jpg  \n",
            "  inflating: images/loaf/loaf_cat_108.jpg  \n",
            "  inflating: images/loaf/loaf_cat_109.jpg  \n",
            "  inflating: images/loaf/loaf_cat_11.jpg  \n",
            "  inflating: images/loaf/loaf_cat_110.jpg  \n",
            "  inflating: images/loaf/loaf_cat_111.jpg  \n",
            "  inflating: images/loaf/loaf_cat_112.jpg  \n",
            "  inflating: images/loaf/loaf_cat_113.jpg  \n",
            "  inflating: images/loaf/loaf_cat_114.jpg  \n",
            "  inflating: images/loaf/loaf_cat_115.jpg  \n",
            "  inflating: images/loaf/loaf_cat_116.jpg  \n",
            "  inflating: images/loaf/loaf_cat_117.jpg  \n",
            "  inflating: images/loaf/loaf_cat_118.jpg  \n",
            "  inflating: images/loaf/loaf_cat_119.jpg  \n",
            "  inflating: images/loaf/loaf_cat_12.jpg  \n",
            "  inflating: images/loaf/loaf_cat_120.jpg  \n",
            "  inflating: images/loaf/loaf_cat_121.jpg  \n",
            "  inflating: images/loaf/loaf_cat_122.jpg  \n",
            "  inflating: images/loaf/loaf_cat_123.jpg  \n",
            "  inflating: images/loaf/loaf_cat_124.jpg  \n",
            "  inflating: images/loaf/loaf_cat_125.jpg  \n",
            "  inflating: images/loaf/loaf_cat_126.jpg  \n",
            "  inflating: images/loaf/loaf_cat_127.jpg  \n",
            "  inflating: images/loaf/loaf_cat_128.jpg  \n",
            "  inflating: images/loaf/loaf_cat_129.jpg  \n",
            "  inflating: images/loaf/loaf_cat_13.jpg  \n",
            "  inflating: images/loaf/loaf_cat_130.jpg  \n",
            "  inflating: images/loaf/loaf_cat_131.jpg  \n",
            "  inflating: images/loaf/loaf_cat_132.jpg  \n",
            "  inflating: images/loaf/loaf_cat_133.jpg  \n",
            "  inflating: images/loaf/loaf_cat_134.jpg  \n",
            "  inflating: images/loaf/loaf_cat_135.jpg  \n",
            "  inflating: images/loaf/loaf_cat_136.jpg  \n",
            "  inflating: images/loaf/loaf_cat_137.jpg  \n",
            "  inflating: images/loaf/loaf_cat_138.jpg  \n",
            "  inflating: images/loaf/loaf_cat_139.jpg  \n",
            "  inflating: images/loaf/loaf_cat_140.jpg  \n",
            "  inflating: images/loaf/loaf_cat_141.jpg  \n",
            "  inflating: images/loaf/loaf_cat_142.jpg  \n",
            "  inflating: images/loaf/loaf_cat_143.jpg  \n",
            "  inflating: images/loaf/loaf_cat_144.jpg  \n",
            "  inflating: images/loaf/loaf_cat_145.jpg  \n",
            "  inflating: images/loaf/loaf_cat_146.jpg  \n",
            "  inflating: images/loaf/loaf_cat_147.jpg  \n",
            "  inflating: images/loaf/loaf_cat_148.jpg  \n",
            "  inflating: images/loaf/loaf_cat_149.jpg  \n",
            "  inflating: images/loaf/loaf_cat_15.jpg  \n",
            "  inflating: images/loaf/loaf_cat_150.jpg  \n",
            "  inflating: images/loaf/loaf_cat_151.jpg  \n",
            "  inflating: images/loaf/loaf_cat_152.jpg  \n",
            "  inflating: images/loaf/loaf_cat_153.jpg  \n",
            "  inflating: images/loaf/loaf_cat_154.jpg  \n",
            "  inflating: images/loaf/loaf_cat_155.jpg  \n",
            "  inflating: images/loaf/loaf_cat_156.jpg  \n",
            "  inflating: images/loaf/loaf_cat_157.jpg  \n",
            "  inflating: images/loaf/loaf_cat_158.jpg  \n",
            "  inflating: images/loaf/loaf_cat_159.jpg  \n",
            "  inflating: images/loaf/loaf_cat_160.jpg  \n",
            "  inflating: images/loaf/loaf_cat_161.jpg  \n",
            "  inflating: images/loaf/loaf_cat_162.jpg  \n",
            "  inflating: images/loaf/loaf_cat_163.jpg  \n",
            "  inflating: images/loaf/loaf_cat_164.jpg  \n",
            "  inflating: images/loaf/loaf_cat_165.jpg  \n",
            "  inflating: images/loaf/loaf_cat_166.jpg  \n",
            "  inflating: images/loaf/loaf_cat_167.jpg  \n",
            "  inflating: images/loaf/loaf_cat_168.jpg  \n",
            "  inflating: images/loaf/loaf_cat_169.jpg  \n",
            "  inflating: images/loaf/loaf_cat_170.jpg  \n",
            "  inflating: images/loaf/loaf_cat_171.jpg  \n",
            "  inflating: images/loaf/loaf_cat_172.jpg  \n",
            "  inflating: images/loaf/loaf_cat_173.jpg  \n",
            "  inflating: images/loaf/loaf_cat_174.jpg  \n",
            "  inflating: images/loaf/loaf_cat_175.jpg  \n",
            "  inflating: images/loaf/loaf_cat_176.jpg  \n",
            "  inflating: images/loaf/loaf_cat_177.jpg  \n",
            "  inflating: images/loaf/loaf_cat_178.jpg  \n",
            "  inflating: images/loaf/loaf_cat_179.jpg  \n",
            "  inflating: images/loaf/loaf_cat_18.jpg  \n",
            "  inflating: images/loaf/loaf_cat_180.jpg  \n",
            "  inflating: images/loaf/loaf_cat_181.jpg  \n",
            "  inflating: images/loaf/loaf_cat_182.jpg  \n",
            "  inflating: images/loaf/loaf_cat_183.jpg  \n",
            "  inflating: images/loaf/loaf_cat_184.jpg  \n",
            "  inflating: images/loaf/loaf_cat_185.jpg  \n",
            "  inflating: images/loaf/loaf_cat_186.jpg  \n",
            "  inflating: images/loaf/loaf_cat_187.jpg  \n",
            "  inflating: images/loaf/loaf_cat_188.jpg  \n",
            "  inflating: images/loaf/loaf_cat_189.jpg  \n",
            "  inflating: images/loaf/loaf_cat_19.jpg  \n",
            "  inflating: images/loaf/loaf_cat_190.jpg  \n",
            "  inflating: images/loaf/loaf_cat_191.jpg  \n",
            "  inflating: images/loaf/loaf_cat_192.jpg  \n",
            "  inflating: images/loaf/loaf_cat_193.jpg  \n",
            "  inflating: images/loaf/loaf_cat_194.png  \n",
            "  inflating: images/loaf/loaf_cat_195.png  \n",
            "  inflating: images/loaf/loaf_cat_196.png  \n",
            "  inflating: images/loaf/loaf_cat_197.jpg  \n",
            "  inflating: images/loaf/loaf_cat_198.jpg  \n",
            "  inflating: images/loaf/loaf_cat_199.jpg  \n",
            "  inflating: images/loaf/loaf_cat_2.jpg  \n",
            "  inflating: images/loaf/loaf_cat_20.jpeg  \n",
            "  inflating: images/loaf/loaf_cat_200.jpg  \n",
            "  inflating: images/loaf/loaf_cat_201.jpg  \n",
            "  inflating: images/loaf/loaf_cat_202.jpg  \n",
            "  inflating: images/loaf/loaf_cat_203.jpg  \n",
            "  inflating: images/loaf/loaf_cat_204.jpg  \n",
            "  inflating: images/loaf/loaf_cat_205.jpg  \n",
            "  inflating: images/loaf/loaf_cat_206.jpg  \n",
            "  inflating: images/loaf/loaf_cat_207.jpg  \n",
            "  inflating: images/loaf/loaf_cat_208.jpg  \n",
            "  inflating: images/loaf/loaf_cat_209.jpg  \n",
            "  inflating: images/loaf/loaf_cat_21.jpeg  \n",
            "  inflating: images/loaf/loaf_cat_210.jpg  \n",
            "  inflating: images/loaf/loaf_cat_211.jpg  \n",
            "  inflating: images/loaf/loaf_cat_212.jpg  \n",
            "  inflating: images/loaf/loaf_cat_213.jpg  \n",
            "  inflating: images/loaf/loaf_cat_214.jpg  \n",
            "  inflating: images/loaf/loaf_cat_215.jpg  \n",
            "  inflating: images/loaf/loaf_cat_216.jpg  \n",
            "  inflating: images/loaf/loaf_cat_217.jpg  \n",
            "  inflating: images/loaf/loaf_cat_218.jpg  \n",
            "  inflating: images/loaf/loaf_cat_219.jpg  \n",
            "  inflating: images/loaf/loaf_cat_22.jpg  \n",
            "  inflating: images/loaf/loaf_cat_220.jpg  \n",
            "  inflating: images/loaf/loaf_cat_221.jpg  \n",
            "  inflating: images/loaf/loaf_cat_222.jpg  \n",
            "  inflating: images/loaf/loaf_cat_223.jpg  \n",
            "  inflating: images/loaf/loaf_cat_224.jpg  \n",
            "  inflating: images/loaf/loaf_cat_225.jpg  \n",
            "  inflating: images/loaf/loaf_cat_226.jpg  \n",
            "  inflating: images/loaf/loaf_cat_227.jpg  \n",
            "  inflating: images/loaf/loaf_cat_228.jpg  \n",
            "  inflating: images/loaf/loaf_cat_229.jpg  \n",
            "  inflating: images/loaf/loaf_cat_23.jpg  \n",
            "  inflating: images/loaf/loaf_cat_230.jpg  \n",
            "  inflating: images/loaf/loaf_cat_231.jpg  \n",
            "  inflating: images/loaf/loaf_cat_232.jpg  \n",
            "  inflating: images/loaf/loaf_cat_233.jpg  \n",
            "  inflating: images/loaf/loaf_cat_234.jpg  \n",
            "  inflating: images/loaf/loaf_cat_235.jpg  \n",
            "  inflating: images/loaf/loaf_cat_236.jpg  \n",
            "  inflating: images/loaf/loaf_cat_237.jpg  \n",
            "  inflating: images/loaf/loaf_cat_238.jpg  \n",
            "  inflating: images/loaf/loaf_cat_239.jpg  \n",
            "  inflating: images/loaf/loaf_cat_24.png  \n",
            "  inflating: images/loaf/loaf_cat_240.jpg  \n",
            "  inflating: images/loaf/loaf_cat_241.jpg  \n",
            "  inflating: images/loaf/loaf_cat_242.jpg  \n",
            "  inflating: images/loaf/loaf_cat_243.jpg  \n",
            "  inflating: images/loaf/loaf_cat_244.jpg  \n",
            "  inflating: images/loaf/loaf_cat_245.jpg  \n",
            "  inflating: images/loaf/loaf_cat_246.jpg  \n",
            "  inflating: images/loaf/loaf_cat_247.jpg  \n",
            "  inflating: images/loaf/loaf_cat_248.jpg  \n",
            "  inflating: images/loaf/loaf_cat_249.jpg  \n",
            "  inflating: images/loaf/loaf_cat_25.jpg  \n",
            "  inflating: images/loaf/loaf_cat_250.jpg  \n",
            "  inflating: images/loaf/loaf_cat_251.jpg  \n",
            "  inflating: images/loaf/loaf_cat_252.jpg  \n",
            "  inflating: images/loaf/loaf_cat_253.jpg  \n",
            "  inflating: images/loaf/loaf_cat_254.jpg  \n",
            "  inflating: images/loaf/loaf_cat_255.jpg  \n",
            "  inflating: images/loaf/loaf_cat_256.jpg  \n",
            "  inflating: images/loaf/loaf_cat_257.jpg  \n",
            "  inflating: images/loaf/loaf_cat_258.jpg  \n",
            "  inflating: images/loaf/loaf_cat_259.jpg  \n",
            "  inflating: images/loaf/loaf_cat_26.jpg  \n",
            "  inflating: images/loaf/loaf_cat_260.jpg  \n",
            "  inflating: images/loaf/loaf_cat_261.jpg  \n",
            "  inflating: images/loaf/loaf_cat_262.jpg  \n",
            "  inflating: images/loaf/loaf_cat_263.jpg  \n",
            "  inflating: images/loaf/loaf_cat_264.jpg  \n",
            "  inflating: images/loaf/loaf_cat_265.jpg  \n",
            "  inflating: images/loaf/loaf_cat_266.jpg  \n",
            "  inflating: images/loaf/loaf_cat_267.jpg  \n",
            "  inflating: images/loaf/loaf_cat_268.jpg  \n",
            "  inflating: images/loaf/loaf_cat_269.jpg  \n",
            "  inflating: images/loaf/loaf_cat_27.jpg  \n",
            "  inflating: images/loaf/loaf_cat_270.jpg  \n",
            "  inflating: images/loaf/loaf_cat_271.jpg  \n",
            "  inflating: images/loaf/loaf_cat_272.jpg  \n",
            "  inflating: images/loaf/loaf_cat_273.jpg  \n",
            "  inflating: images/loaf/loaf_cat_274.jpg  \n",
            "  inflating: images/loaf/loaf_cat_275.jpg  \n",
            "  inflating: images/loaf/loaf_cat_276.jpg  \n",
            "  inflating: images/loaf/loaf_cat_277.jpg  \n",
            "  inflating: images/loaf/loaf_cat_278.jpg  \n",
            "  inflating: images/loaf/loaf_cat_279.jpg  \n",
            "  inflating: images/loaf/loaf_cat_28.jpg  \n",
            "  inflating: images/loaf/loaf_cat_280.jpg  \n",
            "  inflating: images/loaf/loaf_cat_281.jpg  \n",
            "  inflating: images/loaf/loaf_cat_282.jpg  \n",
            "  inflating: images/loaf/loaf_cat_283.jpg  \n",
            "  inflating: images/loaf/loaf_cat_284.jpg  \n",
            "  inflating: images/loaf/loaf_cat_285.jpg  \n",
            "  inflating: images/loaf/loaf_cat_286.jpg  \n",
            "  inflating: images/loaf/loaf_cat_287.jpg  \n",
            "  inflating: images/loaf/loaf_cat_288.jpg  \n",
            "  inflating: images/loaf/loaf_cat_289.jpg  \n",
            "  inflating: images/loaf/loaf_cat_29.jpg  \n",
            "  inflating: images/loaf/loaf_cat_290.jpg  \n",
            "  inflating: images/loaf/loaf_cat_291.jpg  \n",
            "  inflating: images/loaf/loaf_cat_292.jpg  \n",
            "  inflating: images/loaf/loaf_cat_293.jpg  \n",
            "  inflating: images/loaf/loaf_cat_294.jpg  \n",
            "  inflating: images/loaf/loaf_cat_295.jpg  \n",
            "  inflating: images/loaf/loaf_cat_296.jpg  \n",
            "  inflating: images/loaf/loaf_cat_297.jpg  \n",
            "  inflating: images/loaf/loaf_cat_298.jpg  \n",
            "  inflating: images/loaf/loaf_cat_299.jpg  \n",
            "  inflating: images/loaf/loaf_cat_3.jpg  \n",
            "  inflating: images/loaf/loaf_cat_30.jpg  \n",
            "  inflating: images/loaf/loaf_cat_300.jpg  \n",
            "  inflating: images/loaf/loaf_cat_301.jpg  \n",
            "  inflating: images/loaf/loaf_cat_302.jpg  \n",
            "  inflating: images/loaf/loaf_cat_303.jpg  \n",
            "  inflating: images/loaf/loaf_cat_304.jpg  \n",
            "  inflating: images/loaf/loaf_cat_305.jpg  \n",
            "  inflating: images/loaf/loaf_cat_306.jpg  \n",
            "  inflating: images/loaf/loaf_cat_307.jpg  \n",
            "  inflating: images/loaf/loaf_cat_308.jpg  \n",
            "  inflating: images/loaf/loaf_cat_309.jpg  \n",
            "  inflating: images/loaf/loaf_cat_31.jpg  \n",
            "  inflating: images/loaf/loaf_cat_310.jpg  \n",
            "  inflating: images/loaf/loaf_cat_311.jpg  \n",
            "  inflating: images/loaf/loaf_cat_312.jpg  \n",
            "  inflating: images/loaf/loaf_cat_313.jpg  \n",
            "  inflating: images/loaf/loaf_cat_314.jpg  \n",
            "  inflating: images/loaf/loaf_cat_315.jpg  \n",
            "  inflating: images/loaf/loaf_cat_316.jpg  \n",
            "  inflating: images/loaf/loaf_cat_317.jpg  \n",
            "  inflating: images/loaf/loaf_cat_318.jpg  \n",
            "  inflating: images/loaf/loaf_cat_319.jpg  \n",
            "  inflating: images/loaf/loaf_cat_32.jpg  \n",
            "  inflating: images/loaf/loaf_cat_320.jpg  \n",
            "  inflating: images/loaf/loaf_cat_321.jpg  \n",
            "  inflating: images/loaf/loaf_cat_322.jpg  \n",
            "  inflating: images/loaf/loaf_cat_323.jpg  \n",
            "  inflating: images/loaf/loaf_cat_324.jpg  \n",
            "  inflating: images/loaf/loaf_cat_325.jpg  \n",
            "  inflating: images/loaf/loaf_cat_326.jpg  \n",
            "  inflating: images/loaf/loaf_cat_327.jpg  \n",
            "  inflating: images/loaf/loaf_cat_33.jpg  \n",
            "  inflating: images/loaf/loaf_cat_34.jpg  \n",
            "  inflating: images/loaf/loaf_cat_35.jpg  \n",
            "  inflating: images/loaf/loaf_cat_36.jpg  \n",
            "  inflating: images/loaf/loaf_cat_37.jpg  \n",
            "  inflating: images/loaf/loaf_cat_38.jpg  \n",
            "  inflating: images/loaf/loaf_cat_39.jpg  \n",
            "  inflating: images/loaf/loaf_cat_4.jpg  \n",
            "  inflating: images/loaf/loaf_cat_40.jpg  \n",
            "  inflating: images/loaf/loaf_cat_41.jpg  \n",
            "  inflating: images/loaf/loaf_cat_42.jpg  \n",
            "  inflating: images/loaf/loaf_cat_43.jpg  \n",
            "  inflating: images/loaf/loaf_cat_44.jpg  \n",
            "  inflating: images/loaf/loaf_cat_45.jpg  \n",
            "  inflating: images/loaf/loaf_cat_46.jpg  \n",
            "  inflating: images/loaf/loaf_cat_47.jpg  \n",
            "  inflating: images/loaf/loaf_cat_48.jpg  \n",
            "  inflating: images/loaf/loaf_cat_49.jpg  \n",
            "  inflating: images/loaf/loaf_cat_5.jpg  \n",
            "  inflating: images/loaf/loaf_cat_50.jpg  \n",
            "  inflating: images/loaf/loaf_cat_51.jpg  \n",
            "  inflating: images/loaf/loaf_cat_52.jpg  \n",
            "  inflating: images/loaf/loaf_cat_53.jpg  \n",
            "  inflating: images/loaf/loaf_cat_54.jpg  \n",
            "  inflating: images/loaf/loaf_cat_55.jpg  \n",
            "  inflating: images/loaf/loaf_cat_56.jpg  \n",
            "  inflating: images/loaf/loaf_cat_57.jpg  \n",
            "  inflating: images/loaf/loaf_cat_58.jpg  \n",
            "  inflating: images/loaf/loaf_cat_59.jpg  \n",
            "  inflating: images/loaf/loaf_cat_6.jpg  \n",
            "  inflating: images/loaf/loaf_cat_60.jpg  \n",
            "  inflating: images/loaf/loaf_cat_61.jpg  \n",
            "  inflating: images/loaf/loaf_cat_62.jpg  \n",
            "  inflating: images/loaf/loaf_cat_63.jpg  \n",
            "  inflating: images/loaf/loaf_cat_64.jpg  \n",
            "  inflating: images/loaf/loaf_cat_65.jpg  \n",
            "  inflating: images/loaf/loaf_cat_66.jpg  \n",
            "  inflating: images/loaf/loaf_cat_67.jpg  \n",
            "  inflating: images/loaf/loaf_cat_68.jpg  \n",
            "  inflating: images/loaf/loaf_cat_69.jpg  \n",
            "  inflating: images/loaf/loaf_cat_7.jpg  \n",
            "  inflating: images/loaf/loaf_cat_70.jpg  \n",
            "  inflating: images/loaf/loaf_cat_71.jpg  \n",
            "  inflating: images/loaf/loaf_cat_72.jpg  \n",
            "  inflating: images/loaf/loaf_cat_73.jpg  \n",
            "  inflating: images/loaf/loaf_cat_74.jpg  \n",
            "  inflating: images/loaf/loaf_cat_75.jpg  \n",
            "  inflating: images/loaf/loaf_cat_76.jpg  \n",
            "  inflating: images/loaf/loaf_cat_77.jpg  \n",
            "  inflating: images/loaf/loaf_cat_78.jpg  \n",
            "  inflating: images/loaf/loaf_cat_79.jpeg  \n",
            "  inflating: images/loaf/loaf_cat_8.jpg  \n",
            "  inflating: images/loaf/loaf_cat_80.jpeg  \n",
            "  inflating: images/loaf/loaf_cat_81.jpeg  \n",
            "  inflating: images/loaf/loaf_cat_82.jpeg  \n",
            "  inflating: images/loaf/loaf_cat_83.jpg  \n",
            "  inflating: images/loaf/loaf_cat_84.jpg  \n",
            "  inflating: images/loaf/loaf_cat_85.jpg  \n",
            "  inflating: images/loaf/loaf_cat_86.jpg  \n",
            "  inflating: images/loaf/loaf_cat_87.jpg  \n",
            "  inflating: images/loaf/loaf_cat_88.jpg  \n",
            "  inflating: images/loaf/loaf_cat_89.jpg  \n",
            "  inflating: images/loaf/loaf_cat_90.jpg  \n",
            "  inflating: images/loaf/loaf_cat_91.jpg  \n",
            "  inflating: images/loaf/loaf_cat_92.jpg  \n",
            "  inflating: images/loaf/loaf_cat_93.jpg  \n",
            "  inflating: images/loaf/loaf_cat_94.jpg  \n",
            "  inflating: images/loaf/loaf_cat_95.jpg  \n",
            "  inflating: images/loaf/loaf_cat_96.jpg  \n",
            "  inflating: images/loaf/loaf_cat_97.jpg  \n",
            "  inflating: images/loaf/loaf_cat_98.jpg  \n",
            "  inflating: images/loaf/loaf_cat_99.jpg  \n"
          ]
        }
      ],
      "source": [
        "!unzip '/content/drive/My Drive/KB/dataset.zip'"
      ]
    },
    {
      "cell_type": "markdown",
      "source": [
        "SPLIT DATASET\n",
        "DATASET DI SPLIT DENGAN RASIO 80,10,**10**"
      ],
      "metadata": {
        "id": "Rq3S2P-jRHLH"
      }
    },
    {
      "cell_type": "code",
      "source": [
        "\n",
        "!pip install split-folders"
      ],
      "metadata": {
        "colab": {
          "base_uri": "https://localhost:8080/"
        },
        "id": "wVkSgX4-GurD",
        "outputId": "cea99341-796d-4390-ae71-4e0c64e40a14"
      },
      "execution_count": 8,
      "outputs": [
        {
          "output_type": "stream",
          "name": "stdout",
          "text": [
            "Collecting split-folders\n",
            "  Downloading split_folders-0.5.1-py3-none-any.whl (8.4 kB)\n",
            "Installing collected packages: split-folders\n",
            "Successfully installed split-folders-0.5.1\n"
          ]
        }
      ]
    },
    {
      "cell_type": "code",
      "source": [
        "import splitfolders"
      ],
      "metadata": {
        "id": "cTX2rq5yGvZy"
      },
      "execution_count": 9,
      "outputs": []
    },
    {
      "cell_type": "code",
      "source": [
        "splitfolders.ratio(\"images\",\n",
        "                   output=\"dataset_final\",\n",
        "                   seed = 1337,\n",
        "                   ratio=(.8,.1,.1))"
      ],
      "metadata": {
        "colab": {
          "base_uri": "https://localhost:8080/"
        },
        "id": "niLFwuNbHbw5",
        "outputId": "8d723b1c-2265-4168-d262-50afeb67d71d"
      },
      "execution_count": 11,
      "outputs": [
        {
          "output_type": "stream",
          "name": "stderr",
          "text": [
            "Copying files: 646 files [00:00, 7415.89 files/s]\n"
          ]
        }
      ]
    },
    {
      "cell_type": "code",
      "source": [
        "from tensorflow.keras.preprocessing.image import ImageDataGenerator"
      ],
      "metadata": {
        "id": "KmWZUlmzJaBY"
      },
      "execution_count": 12,
      "outputs": []
    },
    {
      "cell_type": "markdown",
      "source": [
        "MENGUBAH BENTUK GAMBAR DARI TRAIN DAN **VAL**"
      ],
      "metadata": {
        "id": "qXwZlUCfRh1G"
      }
    },
    {
      "cell_type": "code",
      "source": [
        "train_datagen = ImageDataGenerator(\n",
        "    rescale=1./255,\n",
        "    rotation_range=20,\n",
        "    width_shift_range=0.2,\n",
        "    height_shift_range=0.2,\n",
        "    shear_range=0.2,\n",
        "    zoom_range=0.2,\n",
        "    horizontal_flip=True,\n",
        "    fill_mode='nearest'\n",
        ")"
      ],
      "metadata": {
        "id": "aeRcPXumNVwb"
      },
      "execution_count": 23,
      "outputs": []
    },
    {
      "cell_type": "code",
      "source": [
        "train_generator  = train_datagen.flow_from_directory(\n",
        "    '/content/dataset_final/train',\n",
        "    target_size = (68,68),\n",
        "    batch_size = 32,\n",
        "    class_mode = 'binary'\n",
        ")\n",
        "\n",
        "val_generator  = val_datagen.flow_from_directory(\n",
        "    '/content/dataset_final/val',\n",
        "    target_size = (68,68),\n",
        "    batch_size = 32,\n",
        "    class_mode = 'binary'\n",
        ")"
      ],
      "metadata": {
        "colab": {
          "base_uri": "https://localhost:8080/"
        },
        "id": "cuv4USGANxNQ",
        "outputId": "7b696f28-6a39-408c-b827-052df5e76cd6"
      },
      "execution_count": 24,
      "outputs": [
        {
          "output_type": "stream",
          "name": "stdout",
          "text": [
            "Found 516 images belonging to 2 classes.\n",
            "Found 64 images belonging to 2 classes.\n"
          ]
        }
      ]
    },
    {
      "cell_type": "markdown",
      "source": [
        "Import Library"
      ],
      "metadata": {
        "id": "oppGBwzRUQYA"
      }
    },
    {
      "cell_type": "code",
      "source": [
        "import tensorflow as tf\n",
        "from tensorflow.keras import Sequential\n",
        "from tensorflow.keras.layers import Conv2D, MaxPooling2D, Flatten, Dense\n",
        "from tensorflow.keras.callbacks import EarlyStopping\n",
        "import matplotlib.pyplot as plt"
      ],
      "metadata": {
        "id": "HLruulH3OFLL"
      },
      "execution_count": 25,
      "outputs": []
    },
    {
      "cell_type": "markdown",
      "source": [
        "MEMBUAT MODEL"
      ],
      "metadata": {
        "id": "p7fMvrcDU7xi"
      }
    },
    {
      "cell_type": "code",
      "source": [
        "model = Sequential([\n",
        "\n",
        "    Conv2D(16,(3,3), activation = 'relu', input_shape = (68,68,3)),\n",
        "    MaxPooling2D(2,2),\n",
        "    Conv2D(64,(3,3), activation = 'relu'),\n",
        "    MaxPooling2D(2,2),\n",
        "\n",
        "    Flatten(),\n",
        "    Dense(128, activation = 'relu'),\n",
        "    Dense(64, activation = 'relu'),\n",
        "    Dense(1, activation = 'sigmoid')\n",
        "])\n",
        "\n",
        "model.compile(optimizer = 'adam',\n",
        "              loss = 'binary_crossentropy',\n",
        "              metrics = ['accuracy'])"
      ],
      "metadata": {
        "id": "-NjSS2T1OXEr"
      },
      "execution_count": 26,
      "outputs": []
    },
    {
      "cell_type": "markdown",
      "source": [
        "MEMBUAT FITUR CALLBACK DAN MELATIH **MODEL**"
      ],
      "metadata": {
        "id": "aSD3UhA6VJVT"
      }
    },
    {
      "cell_type": "code",
      "source": [
        "early_stopping = EarlyStopping(monitor='val_loss', patience=10)\n",
        ""
      ],
      "metadata": {
        "id": "FVD57zXTOnPK"
      },
      "execution_count": 27,
      "outputs": []
    },
    {
      "cell_type": "code",
      "source": [
        "history = model.fit(train_generator, epochs = 50,\n",
        "          validation_data = val_generator,\n",
        "          verbose = 1, callbacks=[early_stopping])"
      ],
      "metadata": {
        "colab": {
          "base_uri": "https://localhost:8080/"
        },
        "id": "JJxF4QNOOu1k",
        "outputId": "1d49c363-7810-4ec4-abe6-4f4ef6b837fc"
      },
      "execution_count": 28,
      "outputs": [
        {
          "output_type": "stream",
          "name": "stdout",
          "text": [
            "Epoch 1/50\n",
            "17/17 [==============================] - 5s 236ms/step - loss: 0.7369 - accuracy: 0.4942 - val_loss: 0.6862 - val_accuracy: 0.5000\n",
            "Epoch 2/50\n",
            "17/17 [==============================] - 3s 188ms/step - loss: 0.6565 - accuracy: 0.5891 - val_loss: 0.8962 - val_accuracy: 0.5312\n",
            "Epoch 3/50\n",
            "17/17 [==============================] - 3s 172ms/step - loss: 0.6832 - accuracy: 0.5795 - val_loss: 0.6905 - val_accuracy: 0.5000\n",
            "Epoch 4/50\n",
            "17/17 [==============================] - 3s 176ms/step - loss: 0.6602 - accuracy: 0.5853 - val_loss: 0.6684 - val_accuracy: 0.5625\n",
            "Epoch 5/50\n",
            "17/17 [==============================] - 4s 243ms/step - loss: 0.6481 - accuracy: 0.6240 - val_loss: 0.6509 - val_accuracy: 0.5781\n",
            "Epoch 6/50\n",
            "17/17 [==============================] - 3s 183ms/step - loss: 0.6267 - accuracy: 0.6609 - val_loss: 0.6251 - val_accuracy: 0.6719\n",
            "Epoch 7/50\n",
            "17/17 [==============================] - 3s 174ms/step - loss: 0.6147 - accuracy: 0.6492 - val_loss: 0.6041 - val_accuracy: 0.6719\n",
            "Epoch 8/50\n",
            "17/17 [==============================] - 5s 310ms/step - loss: 0.6089 - accuracy: 0.6492 - val_loss: 0.6863 - val_accuracy: 0.5469\n",
            "Epoch 9/50\n",
            "17/17 [==============================] - 3s 174ms/step - loss: 0.6801 - accuracy: 0.5795 - val_loss: 0.6658 - val_accuracy: 0.5781\n",
            "Epoch 10/50\n",
            "17/17 [==============================] - 3s 173ms/step - loss: 0.6618 - accuracy: 0.6182 - val_loss: 0.6472 - val_accuracy: 0.6406\n",
            "Epoch 11/50\n",
            "17/17 [==============================] - 3s 173ms/step - loss: 0.6212 - accuracy: 0.6609 - val_loss: 0.6331 - val_accuracy: 0.6094\n",
            "Epoch 12/50\n",
            "17/17 [==============================] - 4s 238ms/step - loss: 0.5886 - accuracy: 0.7093 - val_loss: 0.5866 - val_accuracy: 0.6719\n",
            "Epoch 13/50\n",
            "17/17 [==============================] - 3s 177ms/step - loss: 0.6114 - accuracy: 0.6531 - val_loss: 0.5837 - val_accuracy: 0.6875\n",
            "Epoch 14/50\n",
            "17/17 [==============================] - 3s 174ms/step - loss: 0.6033 - accuracy: 0.6802 - val_loss: 0.5810 - val_accuracy: 0.6719\n",
            "Epoch 15/50\n",
            "17/17 [==============================] - 4s 211ms/step - loss: 0.5942 - accuracy: 0.6705 - val_loss: 0.6037 - val_accuracy: 0.6719\n",
            "Epoch 16/50\n",
            "17/17 [==============================] - 5s 256ms/step - loss: 0.5913 - accuracy: 0.6725 - val_loss: 0.5728 - val_accuracy: 0.6875\n",
            "Epoch 17/50\n",
            "17/17 [==============================] - 3s 174ms/step - loss: 0.5649 - accuracy: 0.7326 - val_loss: 0.5457 - val_accuracy: 0.6875\n",
            "Epoch 18/50\n",
            "17/17 [==============================] - 3s 176ms/step - loss: 0.5610 - accuracy: 0.7171 - val_loss: 0.5781 - val_accuracy: 0.7188\n",
            "Epoch 19/50\n",
            "17/17 [==============================] - 4s 198ms/step - loss: 0.5624 - accuracy: 0.7074 - val_loss: 0.6288 - val_accuracy: 0.6250\n",
            "Epoch 20/50\n",
            "17/17 [==============================] - 3s 173ms/step - loss: 0.5731 - accuracy: 0.6744 - val_loss: 0.5858 - val_accuracy: 0.6875\n",
            "Epoch 21/50\n",
            "17/17 [==============================] - 4s 256ms/step - loss: 0.5742 - accuracy: 0.7016 - val_loss: 0.5139 - val_accuracy: 0.7344\n",
            "Epoch 22/50\n",
            "17/17 [==============================] - 3s 174ms/step - loss: 0.5621 - accuracy: 0.7190 - val_loss: 0.5297 - val_accuracy: 0.7344\n",
            "Epoch 23/50\n",
            "17/17 [==============================] - 3s 172ms/step - loss: 0.5290 - accuracy: 0.7326 - val_loss: 0.5155 - val_accuracy: 0.7188\n",
            "Epoch 24/50\n",
            "17/17 [==============================] - 4s 214ms/step - loss: 0.5242 - accuracy: 0.7171 - val_loss: 0.4981 - val_accuracy: 0.7500\n",
            "Epoch 25/50\n",
            "17/17 [==============================] - 3s 179ms/step - loss: 0.5398 - accuracy: 0.7093 - val_loss: 0.5295 - val_accuracy: 0.7031\n",
            "Epoch 26/50\n",
            "17/17 [==============================] - 3s 173ms/step - loss: 0.5232 - accuracy: 0.7481 - val_loss: 0.5021 - val_accuracy: 0.7344\n",
            "Epoch 27/50\n",
            "17/17 [==============================] - 5s 287ms/step - loss: 0.4962 - accuracy: 0.7636 - val_loss: 0.5071 - val_accuracy: 0.7344\n",
            "Epoch 28/50\n",
            "17/17 [==============================] - 3s 182ms/step - loss: 0.5128 - accuracy: 0.7287 - val_loss: 0.4784 - val_accuracy: 0.7344\n",
            "Epoch 29/50\n",
            "17/17 [==============================] - 3s 175ms/step - loss: 0.5145 - accuracy: 0.7616 - val_loss: 0.5500 - val_accuracy: 0.7031\n",
            "Epoch 30/50\n",
            "17/17 [==============================] - 5s 278ms/step - loss: 0.5358 - accuracy: 0.7267 - val_loss: 0.5313 - val_accuracy: 0.6719\n",
            "Epoch 31/50\n",
            "17/17 [==============================] - 3s 173ms/step - loss: 0.5057 - accuracy: 0.7500 - val_loss: 0.5265 - val_accuracy: 0.7031\n",
            "Epoch 32/50\n",
            "17/17 [==============================] - 3s 173ms/step - loss: 0.4925 - accuracy: 0.7674 - val_loss: 0.4747 - val_accuracy: 0.7812\n",
            "Epoch 33/50\n",
            "17/17 [==============================] - 3s 173ms/step - loss: 0.4625 - accuracy: 0.7907 - val_loss: 0.4692 - val_accuracy: 0.8281\n",
            "Epoch 34/50\n",
            "17/17 [==============================] - 4s 249ms/step - loss: 0.4988 - accuracy: 0.7733 - val_loss: 0.4746 - val_accuracy: 0.7812\n",
            "Epoch 35/50\n",
            "17/17 [==============================] - 3s 173ms/step - loss: 0.4950 - accuracy: 0.7771 - val_loss: 0.5150 - val_accuracy: 0.7812\n",
            "Epoch 36/50\n",
            "17/17 [==============================] - 3s 172ms/step - loss: 0.4885 - accuracy: 0.7616 - val_loss: 0.4946 - val_accuracy: 0.7344\n",
            "Epoch 37/50\n",
            "17/17 [==============================] - 5s 296ms/step - loss: 0.4480 - accuracy: 0.8043 - val_loss: 0.4252 - val_accuracy: 0.8281\n",
            "Epoch 38/50\n",
            "17/17 [==============================] - 3s 170ms/step - loss: 0.4261 - accuracy: 0.8023 - val_loss: 0.4054 - val_accuracy: 0.8438\n",
            "Epoch 39/50\n",
            "17/17 [==============================] - 3s 173ms/step - loss: 0.4633 - accuracy: 0.7810 - val_loss: 0.4415 - val_accuracy: 0.7969\n",
            "Epoch 40/50\n",
            "17/17 [==============================] - 5s 282ms/step - loss: 0.4486 - accuracy: 0.7752 - val_loss: 0.4042 - val_accuracy: 0.7812\n",
            "Epoch 41/50\n",
            "17/17 [==============================] - 3s 174ms/step - loss: 0.4189 - accuracy: 0.8023 - val_loss: 0.4188 - val_accuracy: 0.7812\n",
            "Epoch 42/50\n",
            "17/17 [==============================] - 3s 183ms/step - loss: 0.4090 - accuracy: 0.8062 - val_loss: 0.4472 - val_accuracy: 0.8125\n",
            "Epoch 43/50\n",
            "17/17 [==============================] - 4s 250ms/step - loss: 0.3949 - accuracy: 0.8043 - val_loss: 0.4184 - val_accuracy: 0.7969\n",
            "Epoch 44/50\n",
            "17/17 [==============================] - 3s 174ms/step - loss: 0.3821 - accuracy: 0.8256 - val_loss: 0.4298 - val_accuracy: 0.7969\n",
            "Epoch 45/50\n",
            "17/17 [==============================] - 3s 174ms/step - loss: 0.4028 - accuracy: 0.8081 - val_loss: 0.4901 - val_accuracy: 0.7812\n",
            "Epoch 46/50\n",
            "17/17 [==============================] - 5s 278ms/step - loss: 0.4207 - accuracy: 0.7946 - val_loss: 0.4062 - val_accuracy: 0.8125\n",
            "Epoch 47/50\n",
            "17/17 [==============================] - 3s 173ms/step - loss: 0.3604 - accuracy: 0.8391 - val_loss: 0.4891 - val_accuracy: 0.7812\n",
            "Epoch 48/50\n",
            "17/17 [==============================] - 3s 172ms/step - loss: 0.3817 - accuracy: 0.8275 - val_loss: 0.4425 - val_accuracy: 0.7969\n",
            "Epoch 49/50\n",
            "17/17 [==============================] - 5s 301ms/step - loss: 0.3964 - accuracy: 0.8333 - val_loss: 0.4666 - val_accuracy: 0.7969\n",
            "Epoch 50/50\n",
            "17/17 [==============================] - 3s 170ms/step - loss: 0.4010 - accuracy: 0.8140 - val_loss: 0.4601 - val_accuracy: 0.7656\n"
          ]
        }
      ]
    },
    {
      "cell_type": "code",
      "source": [
        "test_datagen  = ImageDataGenerator(\n",
        "    rescale = 1./255\n",
        ")\n",
        "\n",
        "test_generator = test_datagen.flow_from_directory(\n",
        "    '/content/dataset_final/test',\n",
        "    target_size = (68,68),\n",
        "    batch_size = 32,\n",
        "    class_mode = 'binary'\n",
        ")"
      ],
      "metadata": {
        "colab": {
          "base_uri": "https://localhost:8080/"
        },
        "id": "HK47NbHfOye4",
        "outputId": "30607996-97db-469d-eb5b-7e50a37c96bf"
      },
      "execution_count": 29,
      "outputs": [
        {
          "output_type": "stream",
          "name": "stdout",
          "text": [
            "Found 66 images belonging to 2 classes.\n"
          ]
        }
      ]
    },
    {
      "cell_type": "markdown",
      "source": [
        "EVALUATE HASIL MODEL"
      ],
      "metadata": {
        "id": "KJMqdEwsVRku"
      }
    },
    {
      "cell_type": "code",
      "source": [
        "model.evaluate(test_generator)"
      ],
      "metadata": {
        "colab": {
          "base_uri": "https://localhost:8080/"
        },
        "id": "kC0rugyCPcEy",
        "outputId": "18d729d9-2cea-482b-e149-781d053617d0"
      },
      "execution_count": 30,
      "outputs": [
        {
          "output_type": "stream",
          "name": "stdout",
          "text": [
            "3/3 [==============================] - 0s 29ms/step - loss: 0.5841 - accuracy: 0.7121\n"
          ]
        },
        {
          "output_type": "execute_result",
          "data": {
            "text/plain": [
              "[0.5841425061225891, 0.7121211886405945]"
            ]
          },
          "metadata": {},
          "execution_count": 30
        }
      ]
    },
    {
      "cell_type": "markdown",
      "source": [
        "Grafik Accuracy"
      ],
      "metadata": {
        "id": "XrQqxJeUVbBF"
      }
    },
    {
      "cell_type": "code",
      "source": [
        "plt.plot(history.history['accuracy'])\n",
        "plt.plot(history.history['val_accuracy'])\n",
        "plt.title('Akurasi Model')\n",
        "plt.ylabel('Akurasi')\n",
        "plt.xlabel('Epoch')\n",
        "plt.legend(['Train', 'Val'], loc='upper left')\n",
        "plt.show()"
      ],
      "metadata": {
        "colab": {
          "base_uri": "https://localhost:8080/",
          "height": 472
        },
        "id": "WQUIdHnmPl7T",
        "outputId": "bc592516-ff11-4775-ef92-045276a329b9"
      },
      "execution_count": 31,
      "outputs": [
        {
          "output_type": "display_data",
          "data": {
            "text/plain": [
              "<Figure size 640x480 with 1 Axes>"
            ],
            "image/png": "[encoded data removed]"
          },
          "metadata": {}
        }
      ]
    },
    {
      "cell_type": "markdown",
      "source": [
        "Grafik Loss"
      ],
      "metadata": {
        "id": "xDzoAWE9Vgyx"
      }
    },
    {
      "cell_type": "code",
      "source": [
        "plt.plot(history.history['loss'])\n",
        "plt.plot(history.history['val_loss'])\n",
        "plt.title('Loss dari Model')\n",
        "plt.ylabel('Loss')\n",
        "plt.xlabel('Epoch')\n",
        "plt.legend(['Train', 'Val'], loc='upper left')\n",
        "plt.show()"
      ],
      "metadata": {
        "colab": {
          "base_uri": "https://localhost:8080/",
          "height": 472
        },
        "id": "NCMfkFpRP7YE",
        "outputId": "a1e869fb-943e-4c88-bf3c-31ec5bd4ae94"
      },
      "execution_count": 32,
      "outputs": [
        {
          "output_type": "display_data",
          "data": {
            "text/plain": [
              "<Figure size 640x480 with 1 Axes>"
            ],
            "image/png": "[encoded data removed]"
          },
          "metadata": {}
        }
      ]
    },
    {
      "cell_type": "code",
      "source": [],
      "metadata": {
        "id": "RwbiJOqqQBwu"
      },
      "execution_count": null,
      "outputs": []
    }
  ]
}