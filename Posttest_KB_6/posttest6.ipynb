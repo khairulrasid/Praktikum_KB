{
 "cells": [
  {
   "cell_type": "markdown",
   "id": "0a935169-2b7e-42b7-927c-06db6544188e",
   "metadata": {},
   "source": [
    "# POSTTEST6"
   ]
  },
  {
   "cell_type": "markdown",
   "id": "36402732-7813-4455-8f92-f54ef47365d4",
   "metadata": {},
   "source": [
    "Import LIbrary"
   ]
  },
  {
   "cell_type": "code",
   "execution_count": 16,
   "id": "f009d01a-f4ef-42a4-9fa7-55f3b6175f4f",
   "metadata": {},
   "outputs": [],
   "source": [
    "import numpy as np\n",
    "import pandas as pd\n",
    "from sklearn.svm import SVC\n",
    "from sklearn.model_selection import train_test_split\n",
    "from sklearn.impute import SimpleImputer\n",
    "from sklearn.metrics import confusion_matrix, accuracy_score, precision_score, recall_score, accuracy_score\n",
    "from tensorflow.keras import Sequential,layers,optimizers\n",
    "from tensorflow.keras.layers import Dense\n",
    "from sklearn.preprocessing import LabelEncoder,OrdinalEncoder"
   ]
  },
  {
   "cell_type": "markdown",
   "id": "ef2846b5-34c7-41b4-b294-7c7c86318bc3",
   "metadata": {},
   "source": [
    "Baca datasetnya beserta pengaturannya"
   ]
  },
  {
   "cell_type": "code",
   "execution_count": 17,
   "id": "ecb34772-68b4-4cc0-b7c7-b0246885b645",
   "metadata": {},
   "outputs": [],
   "source": [
    "data = pd.read_csv('tornados.csv',encoding=\"utf-8\")"
   ]
  },
  {
   "cell_type": "markdown",
   "id": "d72dc956-e7fc-44cb-a12c-a01ffb1812ec",
   "metadata": {},
   "source": [
    "# copy dataset aslinya supaya tidak rusak data asli"
   ]
  },
  {
   "cell_type": "code",
   "execution_count": 18,
   "id": "b8cb409b-530f-4a34-94ee-56b3bbd3969e",
   "metadata": {},
   "outputs": [],
   "source": [
    "data_copy = data.copy()"
   ]
  },
  {
   "cell_type": "code",
   "execution_count": 19,
   "id": "0c608f2a-3ecd-47e1-9759-6a26ddf9469e",
   "metadata": {},
   "outputs": [
    {
     "data": {
      "text/plain": [
       "om              0\n",
       "yr              0\n",
       "mo              0\n",
       "dy              0\n",
       "date            0\n",
       "time            0\n",
       "tz              0\n",
       "datetime_utc    0\n",
       "st              0\n",
       "stf             0\n",
       "mag             0\n",
       "inj             0\n",
       "fat             0\n",
       "loss            0\n",
       "slat            0\n",
       "slon            0\n",
       "elat            0\n",
       "elon            0\n",
       "len             0\n",
       "wid             0\n",
       "ns              0\n",
       "sn              0\n",
       "f1              0\n",
       "f2              0\n",
       "f3              0\n",
       "f4              0\n",
       "fc              0\n",
       "dtype: int64"
      ]
     },
     "execution_count": 19,
     "metadata": {},
     "output_type": "execute_result"
    }
   ],
   "source": [
    "# menghapus atribut nilai null\n",
    "data.dropna(inplace=True) \n",
    "data.isna().sum()"
   ]
  },
  {
   "cell_type": "markdown",
   "id": "93813028-2360-4750-9b62-7a7f813c1719",
   "metadata": {},
   "source": [
    "copy dataset aslinya supaya tidak rusak data asli"
   ]
  },
  {
   "cell_type": "code",
   "execution_count": 20,
   "id": "421fb207-0f78-471d-8384-f3ac5e5bfaf4",
   "metadata": {},
   "outputs": [
    {
     "data": {
      "text/plain": [
       "om                int64\n",
       "yr                int64\n",
       "mo                int64\n",
       "dy                int64\n",
       "date             object\n",
       "time             object\n",
       "tz               object\n",
       "datetime_utc     object\n",
       "st               object\n",
       "stf               int64\n",
       "mag             float64\n",
       "inj               int64\n",
       "fat               int64\n",
       "loss            float64\n",
       "slat            float64\n",
       "slon            float64\n",
       "elat            float64\n",
       "elon            float64\n",
       "len             float64\n",
       "wid               int64\n",
       "ns                int64\n",
       "sn                int64\n",
       "f1                int64\n",
       "f2                int64\n",
       "f3                int64\n",
       "f4                int64\n",
       "fc                 bool\n",
       "dtype: object"
      ]
     },
     "execution_count": 20,
     "metadata": {},
     "output_type": "execute_result"
    }
   ],
   "source": [
    "data_copy.dtypes"
   ]
  },
  {
   "cell_type": "markdown",
   "id": "4b1c1638-1f43-448e-a6e6-709c3caf57af",
   "metadata": {},
   "source": [
    "# PREPROCESSING DATA"
   ]
  },
  {
   "cell_type": "code",
   "execution_count": 21,
   "id": "0d86c4ff-33e2-434e-88c9-466a19b133f2",
   "metadata": {},
   "outputs": [],
   "source": [
    "data['fc'] = data.apply(lambda row: 1 if row['fc'] == True else 0,  axis=1)"
   ]
  },
  {
   "cell_type": "markdown",
   "id": "b04d1cf9-793b-4388-bdfa-6502d4087cd7",
   "metadata": {},
   "source": [
    "# Split Data"
   ]
  },
  {
   "cell_type": "markdown",
   "id": "7e242e04-e3bc-4972-bd85-b82041c06566",
   "metadata": {},
   "source": [
    "membuat split data nya sesuai target yg diinginkan"
   ]
  },
  {
   "cell_type": "code",
   "execution_count": 22,
   "id": "6d7d499f-f969-4f3c-bf4c-bb5e4e2c44ae",
   "metadata": {},
   "outputs": [],
   "source": [
    "x = data[['om','stf','mag',]]\n",
    "y = data['fc']\n",
    "X_train, X_test, y_train, y_test = train_test_split(x,y, test_size=0.2,random_state = 42)"
   ]
  },
  {
   "cell_type": "markdown",
   "id": "f3fcf9a3-95e3-4f3f-acaa-14714c27fa74",
   "metadata": {},
   "source": [
    "# DNN"
   ]
  },
  {
   "cell_type": "markdown",
   "id": "ded4f90b-3641-4ec3-95db-5caa021a0cf9",
   "metadata": {},
   "source": [
    "Membuat Model Sequential"
   ]
  },
  {
   "cell_type": "code",
   "execution_count": 23,
   "id": "454aa035-9d60-47cf-9e4a-3ec50f635047",
   "metadata": {},
   "outputs": [],
   "source": [
    "model_seq = Sequential([\n",
    "   layers.Dense(8, activation='relu',input_shape =(None,3)),\n",
    "   layers.Dense(16, activation='relu',input_shape =(None,3)),\n",
    "    layers.Dense(1, activation='sigmoid',input_shape =(None,3)),\n",
    "])"
   ]
  },
  {
   "cell_type": "markdown",
   "id": "60752057-b2ba-4d6c-bfbb-ca898c152323",
   "metadata": {},
   "source": [
    "Melakukan Summary Modelnya"
   ]
  },
  {
   "cell_type": "code",
   "execution_count": 24,
   "id": "8ece79c6-6758-4c65-874b-d5a8776f14d7",
   "metadata": {},
   "outputs": [
    {
     "name": "stdout",
     "output_type": "stream",
     "text": [
      "Model: \"sequential_1\"\n",
      "_________________________________________________________________\n",
      " Layer (type)                Output Shape              Param #   \n",
      "=================================================================\n",
      " dense_3 (Dense)             (None, None, 8)           32        \n",
      "                                                                 \n",
      " dense_4 (Dense)             (None, None, 16)          144       \n",
      "                                                                 \n",
      " dense_5 (Dense)             (None, None, 1)           17        \n",
      "                                                                 \n",
      "=================================================================\n",
      "Total params: 193 (772.00 Byte)\n",
      "Trainable params: 193 (772.00 Byte)\n",
      "Non-trainable params: 0 (0.00 Byte)\n",
      "_________________________________________________________________\n"
     ]
    }
   ],
   "source": [
    "model_seq.summary()"
   ]
  },
  {
   "cell_type": "markdown",
   "id": "416f0dee-9766-4e09-88a1-900493681f83",
   "metadata": {},
   "source": [
    "Melakukan Compile menggunakan optimizer adam dengan loss menggunakan binary_crossentropy, dengan metrics accuracy"
   ]
  },
  {
   "cell_type": "code",
   "execution_count": 25,
   "id": "cd681d24-11ae-4e6d-9523-7aca5e98f7b6",
   "metadata": {},
   "outputs": [],
   "source": [
    "model_seq.compile(optimizer='Adam',loss='binary_crossentropy',metrics=['accuracy'])"
   ]
  },
  {
   "cell_type": "markdown",
   "id": "5f9988d9-c978-49a6-96bc-37becfd804b3",
   "metadata": {},
   "source": [
    "Melakukan training data dengan epochs 20"
   ]
  },
  {
   "cell_type": "code",
   "execution_count": 26,
   "id": "8fb7a3a2-2b73-4372-b41c-612a89b179b7",
   "metadata": {},
   "outputs": [
    {
     "name": "stdout",
     "output_type": "stream",
     "text": [
      "Epoch 1/20\n",
      "831/831 [==============================] - 4s 4ms/step - loss: 0.2146 - accuracy: 0.9775 - val_loss: 0.1219 - val_accuracy: 0.9762\n",
      "Epoch 2/20\n",
      "831/831 [==============================] - 3s 3ms/step - loss: 0.1120 - accuracy: 0.9775 - val_loss: 0.1160 - val_accuracy: 0.9762\n",
      "Epoch 3/20\n",
      "831/831 [==============================] - 3s 3ms/step - loss: 0.1072 - accuracy: 0.9775 - val_loss: 0.1066 - val_accuracy: 0.9762\n",
      "Epoch 4/20\n",
      "831/831 [==============================] - 3s 3ms/step - loss: 0.1051 - accuracy: 0.9775 - val_loss: 0.1087 - val_accuracy: 0.9762\n",
      "Epoch 5/20\n",
      "831/831 [==============================] - 3s 3ms/step - loss: 0.1037 - accuracy: 0.9775 - val_loss: 0.1099 - val_accuracy: 0.9762\n",
      "Epoch 6/20\n",
      "831/831 [==============================] - 3s 3ms/step - loss: 0.1041 - accuracy: 0.9775 - val_loss: 0.1088 - val_accuracy: 0.9762\n",
      "Epoch 7/20\n",
      "831/831 [==============================] - 3s 3ms/step - loss: 0.1026 - accuracy: 0.9775 - val_loss: 0.1045 - val_accuracy: 0.9762\n",
      "Epoch 8/20\n",
      "831/831 [==============================] - 3s 3ms/step - loss: 0.1029 - accuracy: 0.9775 - val_loss: 0.1042 - val_accuracy: 0.9762\n",
      "Epoch 9/20\n",
      "831/831 [==============================] - 3s 4ms/step - loss: 0.1019 - accuracy: 0.9775 - val_loss: 0.1056 - val_accuracy: 0.9762\n",
      "Epoch 10/20\n",
      "831/831 [==============================] - 3s 3ms/step - loss: 0.1022 - accuracy: 0.9775 - val_loss: 0.1083 - val_accuracy: 0.9762\n",
      "Epoch 11/20\n",
      "831/831 [==============================] - 3s 3ms/step - loss: 0.1014 - accuracy: 0.9775 - val_loss: 0.1054 - val_accuracy: 0.9762\n",
      "Epoch 12/20\n",
      "831/831 [==============================] - 3s 4ms/step - loss: 0.1015 - accuracy: 0.9775 - val_loss: 0.1036 - val_accuracy: 0.9762\n",
      "Epoch 13/20\n",
      "831/831 [==============================] - 3s 4ms/step - loss: 0.1009 - accuracy: 0.9775 - val_loss: 0.1075 - val_accuracy: 0.9762\n",
      "Epoch 14/20\n",
      "831/831 [==============================] - 4s 5ms/step - loss: 0.1011 - accuracy: 0.9775 - val_loss: 0.1030 - val_accuracy: 0.9762\n",
      "Epoch 15/20\n",
      "831/831 [==============================] - 3s 3ms/step - loss: 0.1007 - accuracy: 0.9775 - val_loss: 0.1203 - val_accuracy: 0.9762\n",
      "Epoch 16/20\n",
      "831/831 [==============================] - 3s 3ms/step - loss: 0.1013 - accuracy: 0.9775 - val_loss: 0.1046 - val_accuracy: 0.9762\n",
      "Epoch 17/20\n",
      "831/831 [==============================] - 3s 3ms/step - loss: 0.1004 - accuracy: 0.9775 - val_loss: 0.1041 - val_accuracy: 0.9762\n",
      "Epoch 18/20\n",
      "831/831 [==============================] - 3s 3ms/step - loss: 0.1013 - accuracy: 0.9775 - val_loss: 0.1032 - val_accuracy: 0.9762\n",
      "Epoch 19/20\n",
      "831/831 [==============================] - 3s 3ms/step - loss: 0.1006 - accuracy: 0.9775 - val_loss: 0.1039 - val_accuracy: 0.9762\n",
      "Epoch 20/20\n",
      "831/831 [==============================] - 3s 3ms/step - loss: 0.1004 - accuracy: 0.9775 - val_loss: 0.1036 - val_accuracy: 0.9762\n"
     ]
    }
   ],
   "source": [
    "history = model_seq.fit(X_train,y_train, epochs=20 ,verbose=1, validation_split=0.2)"
   ]
  },
  {
   "cell_type": "markdown",
   "id": "e57f6546-bc43-41bd-9a28-b99c94606630",
   "metadata": {},
   "source": [
    "Membuat accuracy score"
   ]
  },
  {
   "cell_type": "code",
   "execution_count": 27,
   "id": "39550711-429e-4e74-aea4-144f62c12e9d",
   "metadata": {},
   "outputs": [
    {
     "name": "stdout",
     "output_type": "stream",
     "text": [
      "260/260 [==============================] - 1s 2ms/step\n"
     ]
    }
   ],
   "source": [
    "y_pred = model_seq.predict(X_test)\n",
    "y_pred = (y_pred > 0.5)"
   ]
  },
  {
   "cell_type": "markdown",
   "id": "039bed60-d7f9-49a5-8564-3f23b18789e6",
   "metadata": {},
   "source": [
    "Lalu model tersebuta dievaluasi"
   ]
  },
  {
   "cell_type": "code",
   "execution_count": 28,
   "id": "bf7cb9dc-1e2f-4397-92ac-cb407fbef08a",
   "metadata": {},
   "outputs": [
    {
     "name": "stdout",
     "output_type": "stream",
     "text": [
      "260/260 [==============================] - 1s 2ms/step - loss: 0.1010 - accuracy: 0.9772\n"
     ]
    },
    {
     "data": {
      "text/plain": [
       "[0.10101330280303955, 0.9772399067878723]"
      ]
     },
     "execution_count": 28,
     "metadata": {},
     "output_type": "execute_result"
    }
   ],
   "source": [
    "model_seq.evaluate(X_test, y_test)"
   ]
  },
  {
   "cell_type": "markdown",
   "id": "7355b19a-3574-45c5-8d30-7af3076edbd0",
   "metadata": {},
   "source": [
    "# Grafik"
   ]
  },
  {
   "cell_type": "markdown",
   "id": "5b2455ba-bb2f-4bae-86c2-12d32595551e",
   "metadata": {},
   "source": [
    "Menampilkan Grafik Akurasi"
   ]
  },
  {
   "cell_type": "code",
   "execution_count": 31,
   "id": "e6dcde63-dd91-465f-b5a5-56bd41bbf548",
   "metadata": {},
   "outputs": [
    {
     "data": {
      "image/png": "[encoded data removed]",
      "text/plain": [
       "<Figure size 640x480 with 1 Axes>"
      ]
     },
     "metadata": {},
     "output_type": "display_data"
    }
   ],
   "source": [
    "import matplotlib.pyplot as plt\n",
    "\n",
    "\n",
    "plt.subplot(1, 2, 2)\n",
    "plt.plot(history.history['accuracy'], label='Akurasi Pelatihan')\n",
    "plt.plot(history.history['val_accuracy'], label = 'Akurasi Validasi')\n",
    "plt.xlabel('Epochs')\n",
    "plt.ylabel('Loss')\n",
    "plt.title('Grafik Akurasi')\n",
    "plt.legend()\n",
    "\n",
    "plt.tight_layout()\n",
    "plt.show()"
   ]
  },
  {
   "cell_type": "markdown",
   "id": "24463f00-a6a9-4239-ad6e-9f8b8436c49d",
   "metadata": {},
   "source": [
    "Menampilkan Grafik Loss"
   ]
  },
  {
   "cell_type": "code",
   "execution_count": 32,
   "id": "22013967-ee4c-4c84-8d3b-0aaeda9353d9",
   "metadata": {},
   "outputs": [
    {
     "data": {
      "image/png": "[encoded data removed]",
      "text/plain": [
       "<Figure size 640x480 with 1 Axes>"
      ]
     },
     "metadata": {},
     "output_type": "display_data"
    }
   ],
   "source": [
    "plt.subplot(1, 2, 2)\n",
    "plt.plot(history.history['loss'], label='Loss Pelatihan')\n",
    "plt.plot(history.history['val_loss'], label='Loss Validasi')\n",
    "plt.xlabel('Epoch')\n",
    "plt.ylabel('Loss')\n",
    "plt.legend(loc='upper right')\n",
    "plt.title('Grafik Loss')\n",
    "plt.show()"
   ]
  },
  {
   "cell_type": "code",
   "execution_count": null,
   "id": "4371720b-8e31-47b0-8ee0-9438a75ccc28",
   "metadata": {},
   "outputs": [],
   "source": []
  }
 ],
 "metadata": {
  "kernelspec": {
   "display_name": "Python 3 (ipykernel)",
   "language": "python",
   "name": "python3"
  },
  "language_info": {
   "codemirror_mode": {
    "name": "ipython",
    "version": 3
   },
   "file_extension": ".py",
   "mimetype": "text/x-python",
   "name": "python",
   "nbconvert_exporter": "python",
   "pygments_lexer": "ipython3",
   "version": "3.10.7"
  }
 },
 "nbformat": 4,
 "nbformat_minor": 5
}
